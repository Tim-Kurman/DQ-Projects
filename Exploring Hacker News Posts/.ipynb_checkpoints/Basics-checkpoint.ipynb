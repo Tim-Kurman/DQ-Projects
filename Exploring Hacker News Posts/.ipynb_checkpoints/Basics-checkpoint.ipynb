{
 "cells": [
  {
   "cell_type": "markdown",
   "metadata": {
    "collapsed": true
   },
   "source": [
    "## Compiling Data from HN website\n",
    "\n",
    "We're gonna be looking at the dataset from Hacker News.\n",
    "\n",
    "Hacker News is a site started by the startup incubator Y Combinator, where user-submitted stories (known as \"posts\") receive votes and comments, similar to reddit. Hacker News is extremely popular in technology and startup circles, and posts that make it to the top of the Hacker News listings can get hundreds of thousands of visitors as a result.\n",
    "\n",
    "We have reduced from almost 300,000 rows to approximately 20,000 rows by removing all submissions that didn't receive any comments and then randomly sampling from the remaining submissions.\n",
    "\n",
    "We're specifically interested in posts with titles that begin with either Ask HN or Show HN. Users submit Ask HN posts to ask the Hacker News community a specific question. \n",
    "\n",
    "Likewise, users submit Show HN posts to show the Hacker News community a project, product, or just something interesting."
   ]
  },
  {
   "cell_type": "code",
   "execution_count": 1,
   "metadata": {},
   "outputs": [],
   "source": [
    "from csv import reader\n",
    "opened_file = open(\"hacker_news.csv\", encoding=\"utf8\")\n",
    "read_file = reader(opened_file)\n",
    "hn = list(read_file)"
   ]
  },
  {
   "cell_type": "code",
   "execution_count": 2,
   "metadata": {},
   "outputs": [],
   "source": [
    "headers = hn[0]\n",
    "hn = hn[1:]"
   ]
  },
  {
   "cell_type": "code",
   "execution_count": 13,
   "metadata": {},
   "outputs": [],
   "source": [
    "ask_posts = []\n",
    "show_posts = []\n",
    "other_posts = []\n",
    "for row in hn:\n",
    "    title = row[1]\n",
    "    if title.lower().startswith('ask hn'):\n",
    "        ask_posts.append(row)\n",
    "    elif title.lower().startswith('show hn'):\n",
    "        show_posts.append(row)\n",
    "    else:\n",
    "        other_posts.append(row)"
   ]
  },
  {
   "cell_type": "code",
   "execution_count": 14,
   "metadata": {},
   "outputs": [
    {
     "name": "stdout",
     "output_type": "stream",
     "text": [
      "Number of posts in Ask HN: 1744\n",
      "Number of posts in Show HN: 1162\n",
      "Number of other posts: 17194\n"
     ]
    }
   ],
   "source": [
    "print('Number of posts in Ask HN:',len(ask_posts))\n",
    "print('Number of posts in Show HN:',len(show_posts))\n",
    "print('Number of other posts:',len(other_posts))"
   ]
  },
  {
   "cell_type": "code",
   "execution_count": 20,
   "metadata": {},
   "outputs": [
    {
     "name": "stdout",
     "output_type": "stream",
     "text": [
      "14.038417431192661\n"
     ]
    }
   ],
   "source": [
    "total_ask_comments = 0\n",
    "for row in ask_posts:\n",
    "    num_comments = int(row[4])\n",
    "    total_ask_comments += num_comments\n",
    "avg_ask_comments = total_ask_comments / len(ask_posts)\n",
    "print(avg_ask_comments)"
   ]
  },
  {
   "cell_type": "code",
   "execution_count": 31,
   "metadata": {},
   "outputs": [
    {
     "name": "stdout",
     "output_type": "stream",
     "text": [
      "10.31669535283993\n"
     ]
    }
   ],
   "source": [
    "total_show_comments = 0\n",
    "for row in show_posts:\n",
    "    num_comments = int(row[4])\n",
    "    total_show_comments += num_comments\n",
    "avg_show_comments = total_show_comments / len(show_posts)\n",
    "print(avg_show_comments)"
   ]
  },
  {
   "cell_type": "markdown",
   "metadata": {},
   "source": [
    "Unsurprisingly ask posts receive more comments on average than show posts."
   ]
  },
  {
   "cell_type": "code",
   "execution_count": 34,
   "metadata": {},
   "outputs": [],
   "source": [
    "import datetime as dt\n",
    "result_list = []\n",
    "for row in ask_posts:\n",
    "    created_at = row[6]\n",
    "    num_comments = int(row[4])\n",
    "    result_list.append([created_at, num_comments])"
   ]
  },
  {
   "cell_type": "code",
   "execution_count": 41,
   "metadata": {},
   "outputs": [],
   "source": [
    "counts_by_hour = {}\n",
    "comments_by_hour = {}\n",
    "for row in result_list:\n",
    "    date_string = row[0]\n",
    "    comments_count = row[1]\n",
    "    date_created = dt.datetime.strptime(date_string, \"%m/%d/%Y %H:%M\"\n",
    ")\n",
    "    hour_created = date_created.hour\n",
    "    if hour_created in counts_by_hour:\n",
    "        counts_by_hour[hour_created] += 1\n",
    "        comments_by_hour[hour_created] += comments_count \n",
    "    else:\n",
    "        counts_by_hour[hour_created] = 1\n",
    "        comments_by_hour[hour_created] = comments_count"
   ]
  },
  {
   "cell_type": "code",
   "execution_count": 44,
   "metadata": {},
   "outputs": [],
   "source": [
    "avg_by_hour = []\n",
    "for key in counts_by_hour:\n",
    "    avg_posts = comments_by_hour[key] / counts_by_hour[key]\n",
    "    avg_by_hour.append([key, avg_posts])"
   ]
  },
  {
   "cell_type": "code",
   "execution_count": 45,
   "metadata": {},
   "outputs": [
    {
     "data": {
      "text/plain": [
       "[[9, 5.5777777777777775],\n",
       " [13, 14.741176470588234],\n",
       " [10, 13.440677966101696],\n",
       " [14, 13.233644859813085],\n",
       " [16, 16.796296296296298],\n",
       " [23, 7.985294117647059],\n",
       " [12, 9.41095890410959],\n",
       " [17, 11.46],\n",
       " [15, 38.5948275862069],\n",
       " [21, 16.009174311926607],\n",
       " [20, 21.525],\n",
       " [2, 23.810344827586206],\n",
       " [18, 13.20183486238532],\n",
       " [3, 7.796296296296297],\n",
       " [5, 10.08695652173913],\n",
       " [19, 10.8],\n",
       " [1, 11.383333333333333],\n",
       " [22, 6.746478873239437],\n",
       " [8, 10.25],\n",
       " [4, 7.170212765957447],\n",
       " [0, 8.127272727272727],\n",
       " [6, 9.022727272727273],\n",
       " [7, 7.852941176470588],\n",
       " [11, 11.051724137931034]]"
      ]
     },
     "execution_count": 45,
     "metadata": {},
     "output_type": "execute_result"
    }
   ],
   "source": [
    "avg_by_hour"
   ]
  },
  {
   "cell_type": "code",
   "execution_count": null,
   "metadata": {},
   "outputs": [],
   "source": []
  }
 ],
 "metadata": {
  "kernelspec": {
   "display_name": "Python 3",
   "language": "python",
   "name": "python3"
  },
  "language_info": {
   "codemirror_mode": {
    "name": "ipython",
    "version": 3
   },
   "file_extension": ".py",
   "mimetype": "text/x-python",
   "name": "python",
   "nbconvert_exporter": "python",
   "pygments_lexer": "ipython3",
   "version": "3.8.2"
  }
 },
 "nbformat": 4,
 "nbformat_minor": 2
}
